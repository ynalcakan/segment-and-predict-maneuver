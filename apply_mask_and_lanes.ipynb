{
 "cells": [
  {
   "cell_type": "code",
   "execution_count": null,
   "metadata": {},
   "outputs": [],
   "source": [
    "# Get image from video \n",
    "# print mask and lane to the image via information given by Prevention annotations."
   ]
  }
 ],
 "metadata": {
  "interpreter": {
   "hash": "e61e229c4124dba85ce16a8aa455fa3d75395fc3e033cc05ffee5ec1b7753cf7"
  },
  "kernelspec": {
   "display_name": "Python 3.8.10 64-bit",
   "name": "python3"
  },
  "language_info": {
   "name": "python",
   "version": "3.8.10"
  },
  "orig_nbformat": 4
 },
 "nbformat": 4,
 "nbformat_minor": 2
}
